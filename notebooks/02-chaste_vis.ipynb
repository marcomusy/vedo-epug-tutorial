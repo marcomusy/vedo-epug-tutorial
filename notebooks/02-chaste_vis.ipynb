{
 "cells": [
  {
   "cell_type": "code",
   "execution_count": 4,
   "metadata": {},
   "outputs": [],
   "source": [
    "from vedo import *\n",
    "from vedo import load\n",
    "from vedo.applications import Browser\n",
    "\n",
    "settings.default_backend = \"vtk\"  # or k3d, ipyvtk, or 2d"
   ]
  },
  {
   "cell_type": "code",
   "execution_count": 5,
   "metadata": {},
   "outputs": [],
   "source": [
    "# Note! In diferent os this will change!\n",
    "data_path = \"../data/chaste/Practical_2_3/results_*.vtu\""
   ]
  },
  {
   "cell_type": "code",
   "execution_count": 6,
   "metadata": {},
   "outputs": [
    {
     "name": "stdout",
     "output_type": "stream",
     "text": [
      "\u001b[7m\u001b[1m\u001b[35mvedo.grids.UnstructuredGrid at (0x592a1c0)                                 \u001b[0m\n",
      "\u001b[0m\u001b[35mnr. of verts  : 91\n",
      "nr. of cells  : 36\n",
      "cell types    : ['POLYGON']\n",
      "size          : average=2.21362, diagonal=8.39811\n",
      "center of mass: (3.36956, 3.06419, 0)\n",
      "bounds        : x=(0.109, 6.35), y=(0.320, 5.93), z=(0, 0)\n",
      "celldata      : \"Cell volumes\" (float64), ndim=1, range=(0.339, 1.04)\n",
      "celldata      : \"Prolif Cell types\" (float64), ndim=1, range=(2.00, 2.00)\n",
      "celldata      : \"Legacy Cell types\" (float64), ndim=1, range=(2.00, 2.00)\n",
      "celldata      : \"target area\" (float64), ndim=1, range=(1.00, 1.00)\u001b[0m\n"
     ]
    },
    {
     "data": {
      "text/plain": [
       "<vedo.applications.Browser at 0x7d94c469b3b0>"
      ]
     },
     "execution_count": 6,
     "metadata": {},
     "output_type": "execute_result"
    }
   ],
   "source": [
    "Browser(data_path).show().close()"
   ]
  },
  {
   "cell_type": "code",
   "execution_count": 4,
   "metadata": {},
   "outputs": [],
   "source": [
    "ugrids = load(data_path)\n",
    "\n",
    "meshes = []\n",
    "for u in ugrids:\n",
    "    m = u.alpha(1).tomesh().linewidth(1)\n",
    "    m.cmap(\"viridis_r\", vmin=0.2, vmax=2) # Note!\n",
    "    meshes.append(m)\n",
    "\n",
    "Browser(meshes).show().close()"
   ]
  }
 ],
 "metadata": {
  "kernelspec": {
   "display_name": "Python 3 (ipykernel)",
   "language": "python",
   "name": "python3"
  },
  "language_info": {
   "codemirror_mode": {
    "name": "ipython",
    "version": 3
   },
   "file_extension": ".py",
   "mimetype": "text/x-python",
   "name": "python",
   "nbconvert_exporter": "python",
   "pygments_lexer": "ipython3",
   "version": "3.12.3"
  }
 },
 "nbformat": 4,
 "nbformat_minor": 4
}
