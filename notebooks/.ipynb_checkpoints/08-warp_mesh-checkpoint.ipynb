{
 "cells": [
  {
   "cell_type": "code",
   "execution_count": 1,
   "metadata": {},
   "outputs": [],
   "source": [
    "from vedo import dataurl, Mesh, Arrows, show, settings\n",
    "\n",
    "settings.default_backend = \"k3d\""
   ]
  },
  {
   "cell_type": "code",
   "execution_count": 2,
   "metadata": {},
   "outputs": [
    {
     "data": {
      "text/html": [
       "<table>\n",
       "<tr>\n",
       "<td>\n",
       "<img src='data:image/png;base64,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'></img>\n",
       "</td>\n",
       "<td style='text-align: center; vertical-align: center;'><br/>\n",
       "<b> Mesh: &nbsp&nbsp</b><b><a href=\"https://vedo.embl.es/docs/vedo/mesh.html#Mesh\" target=\"_blank\">vedo.mesh.Mesh</a></b><br/><code><i>(....embl.es/examples/data/man.vtk)</i></code>\n",
       "<table>\n",
       "<tr><td><b> bounds </b> <br/> (x/y/z) </td><td>-0.9169 ... 0.9169<br/>-0.3300 ... 0.2617<br/>-1.570 ... 1.685</td></tr>\n",
       "<tr><td><b> center of mass </b></td><td>(1.01e-10, 4.06e-11, 2.20e-11)</td></tr>\n",
       "<tr><td><b> average size </b></td><td>0.911</td></tr>\n",
       "<tr><td><b> nr. points&nbsp/&nbspfaces </b></td><td>24461&nbsp/&nbsp24459</td></tr>\n",
       "\n",
       "<tr><td><b> cell data array </b></td><td>MaterialIds</td></tr>\n",
       "</table>\n",
       "</table>"
      ],
      "text/plain": [
       "<vedo.mesh.Mesh at 0x71f377ff9fd0>"
      ]
     },
     "execution_count": 2,
     "metadata": {},
     "output_type": "execute_result"
    }
   ],
   "source": [
    "# Load a mesh\n",
    "mesh = Mesh(dataurl+\"man.vtk\").color(\"white\")\n",
    "mesh"
   ]
  },
  {
   "cell_type": "code",
   "execution_count": 3,
   "metadata": {},
   "outputs": [
    {
     "data": {
      "text/html": [
       "<table>\n",
       "<tr>\n",
       "<td>\n",
       "<img src='data:image/png;base64,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'></img>\n",
       "</td>\n",
       "<td style='text-align: center; vertical-align: center;'><br/>\n",
       "<b> Mesh: &nbsp&nbsp</b><b><a href=\"https://vedo.embl.es/docs/vedo/mesh.html#Mesh\" target=\"_blank\">vedo.mesh.Mesh</a></b><br/><code><i>(....embl.es/examples/data/man.vtk)</i></code>\n",
       "<table>\n",
       "<tr><td><b> bounds </b> <br/> (x/y/z) </td><td>-0.9043 ... 0.9069<br/>-0.3313 ... 0.2732<br/>-1.567 ... 1.697</td></tr>\n",
       "<tr><td><b> center of mass </b></td><td>(7.88e-3, 0.0138, 0.0634)</td></tr>\n",
       "<tr><td><b> average size </b></td><td>0.941</td></tr>\n",
       "<tr><td><b> nr. points&nbsp/&nbspfaces </b></td><td>203&nbsp/&nbsp399</td></tr>\n",
       "\n",
       "\n",
       "</table>\n",
       "</table>"
      ],
      "text/plain": [
       "<vedo.mesh.Mesh at 0x71f377ffade0>"
      ]
     },
     "execution_count": 3,
     "metadata": {},
     "output_type": "execute_result"
    }
   ],
   "source": [
    "# Create a heavily decimated copy with about 200 points\n",
    "# (to speed up the computation)\n",
    "mesh_dec = mesh.clone().triangulate().decimate(n=200)\n",
    "mesh_dec"
   ]
  },
  {
   "cell_type": "code",
   "execution_count": 4,
   "metadata": {},
   "outputs": [],
   "source": [
    "sources = [[0.9, 0.0, 0.2]]  # this point moves\n",
    "targets = [[1.2, 0.0, 0.4]]  # ...to this.\n",
    "for pt in mesh_dec.vertices:\n",
    "    if pt[0] < 0.3:          # while these pts don't move\n",
    "        sources.append(pt)   # (e.i. source = target)\n",
    "        targets.append(pt)"
   ]
  },
  {
   "cell_type": "code",
   "execution_count": 5,
   "metadata": {},
   "outputs": [
    {
     "data": {
      "text/html": [
       "<table>\n",
       "<tr>\n",
       "<td>\n",
       "<img src='data:image/png;base64,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'></img>\n",
       "</td>\n",
       "<td style='text-align: center; vertical-align: center;'><br/>\n",
       "<b> Mesh: &nbsp&nbsp</b><b><a href=\"https://vedo.embl.es/docs/vedo/mesh.html#Mesh\" target=\"_blank\">vedo.mesh.Mesh</a></b><br/><code><i>(....embl.es/examples/data/man.vtk)</i></code>\n",
       "<table>\n",
       "<tr><td><b> bounds </b> <br/> (x/y/z) </td><td>-0.9176 ... 1.173<br/>-0.3300 ... 0.2617<br/>-1.570 ... 1.684</td></tr>\n",
       "<tr><td><b> center of mass </b></td><td>(0.0239, 4.06e-11, 0.0160)</td></tr>\n",
       "<tr><td><b> average size </b></td><td>0.935</td></tr>\n",
       "<tr><td><b> nr. points&nbsp/&nbspfaces </b></td><td>24461&nbsp/&nbsp24459</td></tr>\n",
       "\n",
       "<tr><td><b> cell data array </b></td><td>MaterialIds</td></tr>\n",
       "</table>\n",
       "</table>"
      ],
      "text/plain": [
       "<vedo.mesh.Mesh at 0x71f377d586b0>"
      ]
     },
     "execution_count": 5,
     "metadata": {},
     "output_type": "execute_result"
    }
   ],
   "source": [
    "# Warp the mesh\n",
    "mesh_warped = mesh.clone().warp(sources, targets)\n",
    "mesh_warped.c(\"blue\").wireframe()"
   ]
  },
  {
   "cell_type": "code",
   "execution_count": 6,
   "metadata": {},
   "outputs": [
    {
     "data": {
      "application/vnd.jupyter.widget-view+json": {
       "model_id": "3d3d0339213f45708fa3723fc2244805",
       "version_major": 2,
       "version_minor": 0
      },
      "text/plain": [
       "Plot(antialias=True, axes=['x', 'y', 'z'], axes_helper=1.0, axes_helper_colors=[16711680, 65280, 255], backgro…"
      ]
     },
     "execution_count": 6,
     "metadata": {},
     "output_type": "execute_result"
    }
   ],
   "source": [
    "# Create the arrows representing the displacement\n",
    "arrow = Arrows(sources, targets)\n",
    "\n",
    "# Show the meshes and the arrow\n",
    "show(mesh, mesh_warped, arrow, axes=1)#.close()"
   ]
  },
  {
   "cell_type": "code",
   "execution_count": null,
   "metadata": {},
   "outputs": [],
   "source": []
  }
 ],
 "metadata": {
  "kernelspec": {
   "display_name": "Python 3 (ipykernel)",
   "language": "python",
   "name": "python3"
  },
  "language_info": {
   "codemirror_mode": {
    "name": "ipython",
    "version": 3
   },
   "file_extension": ".py",
   "mimetype": "text/x-python",
   "name": "python",
   "nbconvert_exporter": "python",
   "pygments_lexer": "ipython3",
   "version": "3.12.3"
  }
 },
 "nbformat": 4,
 "nbformat_minor": 4
}
